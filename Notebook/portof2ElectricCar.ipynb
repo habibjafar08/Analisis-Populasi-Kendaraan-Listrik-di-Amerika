{
 "cells": [
  {
   "cell_type": "markdown",
   "metadata": {},
   "source": [
    "## Load Dataset"
   ]
  },
  {
   "cell_type": "code",
   "execution_count": 17,
   "metadata": {},
   "outputs": [
    {
     "data": {
      "text/html": [
       "<div>\n",
       "<style scoped>\n",
       "    .dataframe tbody tr th:only-of-type {\n",
       "        vertical-align: middle;\n",
       "    }\n",
       "\n",
       "    .dataframe tbody tr th {\n",
       "        vertical-align: top;\n",
       "    }\n",
       "\n",
       "    .dataframe thead th {\n",
       "        text-align: right;\n",
       "    }\n",
       "</style>\n",
       "<table border=\"1\" class=\"dataframe\">\n",
       "  <thead>\n",
       "    <tr style=\"text-align: right;\">\n",
       "      <th></th>\n",
       "      <th>Date</th>\n",
       "      <th>County</th>\n",
       "      <th>State</th>\n",
       "      <th>Vehicle Primary Use</th>\n",
       "      <th>Battery Electric Vehicles (BEVs)</th>\n",
       "      <th>Plug-In Hybrid Electric Vehicles (PHEVs)</th>\n",
       "      <th>Electric Vehicle (EV) Total</th>\n",
       "      <th>Non-Electric Vehicle Total</th>\n",
       "      <th>Total Vehicles</th>\n",
       "      <th>Percent Electric Vehicles</th>\n",
       "    </tr>\n",
       "  </thead>\n",
       "  <tbody>\n",
       "    <tr>\n",
       "      <th>0</th>\n",
       "      <td>September 30 2022</td>\n",
       "      <td>Riverside</td>\n",
       "      <td>CA</td>\n",
       "      <td>Passenger</td>\n",
       "      <td>7</td>\n",
       "      <td>0</td>\n",
       "      <td>7</td>\n",
       "      <td>460</td>\n",
       "      <td>467</td>\n",
       "      <td>1.50</td>\n",
       "    </tr>\n",
       "    <tr>\n",
       "      <th>1</th>\n",
       "      <td>December 31 2022</td>\n",
       "      <td>Prince William</td>\n",
       "      <td>VA</td>\n",
       "      <td>Passenger</td>\n",
       "      <td>1</td>\n",
       "      <td>2</td>\n",
       "      <td>3</td>\n",
       "      <td>188</td>\n",
       "      <td>191</td>\n",
       "      <td>1.57</td>\n",
       "    </tr>\n",
       "    <tr>\n",
       "      <th>2</th>\n",
       "      <td>January 31 2020</td>\n",
       "      <td>Dakota</td>\n",
       "      <td>MN</td>\n",
       "      <td>Passenger</td>\n",
       "      <td>0</td>\n",
       "      <td>1</td>\n",
       "      <td>1</td>\n",
       "      <td>32</td>\n",
       "      <td>33</td>\n",
       "      <td>3.03</td>\n",
       "    </tr>\n",
       "    <tr>\n",
       "      <th>3</th>\n",
       "      <td>June 30 2022</td>\n",
       "      <td>Ferry</td>\n",
       "      <td>WA</td>\n",
       "      <td>Truck</td>\n",
       "      <td>0</td>\n",
       "      <td>0</td>\n",
       "      <td>0</td>\n",
       "      <td>3,575</td>\n",
       "      <td>3,575</td>\n",
       "      <td>0.00</td>\n",
       "    </tr>\n",
       "    <tr>\n",
       "      <th>4</th>\n",
       "      <td>July 31 2021</td>\n",
       "      <td>Douglas</td>\n",
       "      <td>CO</td>\n",
       "      <td>Passenger</td>\n",
       "      <td>0</td>\n",
       "      <td>1</td>\n",
       "      <td>1</td>\n",
       "      <td>83</td>\n",
       "      <td>84</td>\n",
       "      <td>1.19</td>\n",
       "    </tr>\n",
       "  </tbody>\n",
       "</table>\n",
       "</div>"
      ],
      "text/plain": [
       "                Date          County State Vehicle Primary Use  \\\n",
       "0  September 30 2022       Riverside    CA           Passenger   \n",
       "1   December 31 2022  Prince William    VA           Passenger   \n",
       "2    January 31 2020          Dakota    MN           Passenger   \n",
       "3       June 30 2022           Ferry    WA               Truck   \n",
       "4       July 31 2021         Douglas    CO           Passenger   \n",
       "\n",
       "  Battery Electric Vehicles (BEVs) Plug-In Hybrid Electric Vehicles (PHEVs)  \\\n",
       "0                                7                                        0   \n",
       "1                                1                                        2   \n",
       "2                                0                                        1   \n",
       "3                                0                                        0   \n",
       "4                                0                                        1   \n",
       "\n",
       "  Electric Vehicle (EV) Total Non-Electric Vehicle Total Total Vehicles  \\\n",
       "0                           7                        460            467   \n",
       "1                           3                        188            191   \n",
       "2                           1                         32             33   \n",
       "3                           0                      3,575          3,575   \n",
       "4                           1                         83             84   \n",
       "\n",
       "   Percent Electric Vehicles  \n",
       "0                       1.50  \n",
       "1                       1.57  \n",
       "2                       3.03  \n",
       "3                       0.00  \n",
       "4                       1.19  "
      ]
     },
     "execution_count": 17,
     "metadata": {},
     "output_type": "execute_result"
    }
   ],
   "source": [
    "import pandas as pd\n",
    "df=pd.read_csv('Car_Electric.csv')\n",
    "df.head()"
   ]
  },
  {
   "cell_type": "markdown",
   "metadata": {},
   "source": [
    "## Cek Dataset"
   ]
  },
  {
   "cell_type": "code",
   "execution_count": 18,
   "metadata": {},
   "outputs": [
    {
     "name": "stdout",
     "output_type": "stream",
     "text": [
      "<class 'pandas.core.frame.DataFrame'>\n",
      "RangeIndex: 20819 entries, 0 to 20818\n",
      "Data columns (total 10 columns):\n",
      " #   Column                                    Non-Null Count  Dtype  \n",
      "---  ------                                    --------------  -----  \n",
      " 0   Date                                      20819 non-null  object \n",
      " 1   County                                    20733 non-null  object \n",
      " 2   State                                     20733 non-null  object \n",
      " 3   Vehicle Primary Use                       20819 non-null  object \n",
      " 4   Battery Electric Vehicles (BEVs)          20819 non-null  object \n",
      " 5   Plug-In Hybrid Electric Vehicles (PHEVs)  20819 non-null  object \n",
      " 6   Electric Vehicle (EV) Total               20819 non-null  object \n",
      " 7   Non-Electric Vehicle Total                20819 non-null  object \n",
      " 8   Total Vehicles                            20819 non-null  object \n",
      " 9   Percent Electric Vehicles                 20819 non-null  float64\n",
      "dtypes: float64(1), object(9)\n",
      "memory usage: 1.6+ MB\n"
     ]
    }
   ],
   "source": [
    "df.info()"
   ]
  },
  {
   "cell_type": "markdown",
   "metadata": {},
   "source": [
    "**Insight**\n",
    "\n",
    "Ubah tipe data pada colom Battery Electric Vehicles (BEVs),Plug-In Hybrid Electric Vehicles (PHEVs), Electric Vehicle (EV) Total,Non-Electric Vehicle Total,Total Vehicles menjadi integer"
   ]
  },
  {
   "cell_type": "code",
   "execution_count": 19,
   "metadata": {},
   "outputs": [],
   "source": [
    "convert_dict = {'Battery Electric Vehicles (BEVs)': int,\n",
    "                'Plug-In Hybrid Electric Vehicles (PHEVs)': int,\n",
    "                'Electric Vehicle (EV) Total':int,\n",
    "                'Non-Electric Vehicle Total':int,\n",
    "                'Total Vehicles':int,\n",
    "                }\n",
    "columns_to_clean = ['Battery Electric Vehicles (BEVs)', 'Plug-In Hybrid Electric Vehicles (PHEVs)',\n",
    "                    'Electric Vehicle (EV) Total', 'Non-Electric Vehicle Total', 'Total Vehicles']\n",
    "df[columns_to_clean] = df[columns_to_clean].replace({',': ''}, regex=True)\n",
    "df=df.astype(convert_dict)"
   ]
  },
  {
   "cell_type": "markdown",
   "metadata": {},
   "source": [
    "## cek missing value"
   ]
  },
  {
   "cell_type": "code",
   "execution_count": 20,
   "metadata": {},
   "outputs": [
    {
     "data": {
      "text/plain": [
       "Date                                        0.000000\n",
       "County                                      0.413084\n",
       "State                                       0.413084\n",
       "Vehicle Primary Use                         0.000000\n",
       "Battery Electric Vehicles (BEVs)            0.000000\n",
       "Plug-In Hybrid Electric Vehicles (PHEVs)    0.000000\n",
       "Electric Vehicle (EV) Total                 0.000000\n",
       "Non-Electric Vehicle Total                  0.000000\n",
       "Total Vehicles                              0.000000\n",
       "Percent Electric Vehicles                   0.000000\n",
       "dtype: float64"
      ]
     },
     "execution_count": 20,
     "metadata": {},
     "output_type": "execute_result"
    }
   ],
   "source": [
    "df.isna().mean()*100"
   ]
  },
  {
   "cell_type": "markdown",
   "metadata": {},
   "source": [
    "**insight**\n",
    "\n",
    "ada data hilang sebanyak 0,4% yaitu pada kolom county dan state, karena jumlah data yang hilang kuarng dari 2% maka dilakukan drop pada data yang hilang"
   ]
  },
  {
   "cell_type": "code",
   "execution_count": 21,
   "metadata": {},
   "outputs": [],
   "source": [
    "df.dropna(inplace=True)"
   ]
  },
  {
   "cell_type": "markdown",
   "metadata": {},
   "source": [
    "## Cek duplicate data"
   ]
  },
  {
   "cell_type": "code",
   "execution_count": 23,
   "metadata": {},
   "outputs": [
    {
     "data": {
      "text/html": [
       "<div>\n",
       "<style scoped>\n",
       "    .dataframe tbody tr th:only-of-type {\n",
       "        vertical-align: middle;\n",
       "    }\n",
       "\n",
       "    .dataframe tbody tr th {\n",
       "        vertical-align: top;\n",
       "    }\n",
       "\n",
       "    .dataframe thead th {\n",
       "        text-align: right;\n",
       "    }\n",
       "</style>\n",
       "<table border=\"1\" class=\"dataframe\">\n",
       "  <thead>\n",
       "    <tr style=\"text-align: right;\">\n",
       "      <th></th>\n",
       "      <th>Date</th>\n",
       "      <th>County</th>\n",
       "      <th>State</th>\n",
       "      <th>Vehicle Primary Use</th>\n",
       "      <th>Battery Electric Vehicles (BEVs)</th>\n",
       "      <th>Plug-In Hybrid Electric Vehicles (PHEVs)</th>\n",
       "      <th>Electric Vehicle (EV) Total</th>\n",
       "      <th>Non-Electric Vehicle Total</th>\n",
       "      <th>Total Vehicles</th>\n",
       "      <th>Percent Electric Vehicles</th>\n",
       "    </tr>\n",
       "  </thead>\n",
       "  <tbody>\n",
       "  </tbody>\n",
       "</table>\n",
       "</div>"
      ],
      "text/plain": [
       "Empty DataFrame\n",
       "Columns: [Date, County, State, Vehicle Primary Use, Battery Electric Vehicles (BEVs), Plug-In Hybrid Electric Vehicles (PHEVs), Electric Vehicle (EV) Total, Non-Electric Vehicle Total, Total Vehicles, Percent Electric Vehicles]\n",
       "Index: []"
      ]
     },
     "execution_count": 23,
     "metadata": {},
     "output_type": "execute_result"
    }
   ],
   "source": [
    "df[df.duplicated()]"
   ]
  },
  {
   "cell_type": "markdown",
   "metadata": {},
   "source": [
    "**Insight**\n",
    "\n",
    "Tidak ada data duplicate"
   ]
  },
  {
   "cell_type": "code",
   "execution_count": 27,
   "metadata": {},
   "outputs": [
    {
     "data": {
      "text/html": [
       "<div>\n",
       "<style scoped>\n",
       "    .dataframe tbody tr th:only-of-type {\n",
       "        vertical-align: middle;\n",
       "    }\n",
       "\n",
       "    .dataframe tbody tr th {\n",
       "        vertical-align: top;\n",
       "    }\n",
       "\n",
       "    .dataframe thead th {\n",
       "        text-align: right;\n",
       "    }\n",
       "</style>\n",
       "<table border=\"1\" class=\"dataframe\">\n",
       "  <thead>\n",
       "    <tr style=\"text-align: right;\">\n",
       "      <th></th>\n",
       "      <th>Name</th>\n",
       "      <th>Type</th>\n",
       "      <th>N/A (%)</th>\n",
       "      <th>Unique</th>\n",
       "      <th>Sample</th>\n",
       "    </tr>\n",
       "  </thead>\n",
       "  <tbody>\n",
       "    <tr>\n",
       "      <th>0</th>\n",
       "      <td>Date</td>\n",
       "      <td>object</td>\n",
       "      <td>0.0</td>\n",
       "      <td>86</td>\n",
       "      <td>[September 30 2022, December 31 2022, January 31 2020, June 30 2022, July 31 2021, May 31 2018, November 30 2017, March 31 2018, March 31 2020, January 31 2019, February 28 2017, September 30 2017, December 31 2018, November 30 2020, February 29 2020, August 31 2019, May 31 2020, December 31 2021, June 30 2021, January 31 2017, October 31 2022, May 31 2022, October 31 2017, September 30 2021, April 30 2021, June 30 2017, January 31 2022, July 31 2020, November 30 2021, February 28 2022, June 30 2019, March 31 2019, July 31 2019, August 31 2023, October 31 2020, June 30 2023, April 30 2020, September 30 2023, March 31 2021, April 30 2019, January 31 2018, October 31 2021, June 30 2020, April 30 2017, April 30 2023, February 28 2019, March 31 2022, January 31 2021, June 30 2018, March 31 2023, January 31 2024, September 30 2020, March 31 2017, December 31 2023, December 31 2017, November 30 2019, July 31 2022, April 30 2018, July 31 2023, May 31 2023, May 31 2021, July 31 2018, August 31 2021, December 31 2019, August 31 2022, July 31 2017, May 31 2017, October 31 2019, August 31 2020, January 31 2023, May 31 2019, February 28 2023, November 30 2022, November 30 2018, October 31 2023, August 31 2018, February 29 2024, December 31 2020, April 30 2022, November 30 2023, February 28 2018, October 31 2018, September 30 2019, August 31 2017, February 28 2021, September 30 2018]</td>\n",
       "    </tr>\n",
       "    <tr>\n",
       "      <th>1</th>\n",
       "      <td>County</td>\n",
       "      <td>object</td>\n",
       "      <td>0.0</td>\n",
       "      <td>311</td>\n",
       "      <td>[Riverside, Prince William, Dakota, Ferry, Douglas, Maui, Northampton, Nassau, DeKalb, Columbia, Orleans, Ramsey, Manassas, Montgomery, Albemarle, Monroe, San Diego, Skamania, Washington, Sarpy, Owyhee, Clinton, Yakima, Virginia Beach, Sedgwick, Kittitas, Asotin, San Francisco, Charles, Richmond, Carson City, Santa Clara, Harris, King, Suffolk, Clallam, Clay, El Paso, Harford, Franklin, Burlington, Kings, Washtenaw, Whatcom, Whitman, Stevens, Benton, Kern, Grant, Nueces, Jackson, Polk, Powhatan, Anne Arundel, Pacific, San Mateo, Ventura, Klamath, Hamilton, Meade, Placer, Larimer, Fairbanks North Star, Clark, Bexar, Manatee, Williamson, Flathead, Lumpkin, Mason, Providence, Hardin, Charleston, Santa Cruz, Hawaii, Kootenai, Sumter, Dallas, Lake, Spokane, Los Angeles, Maricopa, Solano, Gwinnett, Madison, Snohomish, Lewis, Garfield, Walla Walla, St. Clair, Allen, Bryan, Adams, Jefferson, Alameda, Skagit, Escambia, Cook, Pima, Williams, ...]</td>\n",
       "    </tr>\n",
       "    <tr>\n",
       "      <th>2</th>\n",
       "      <td>State</td>\n",
       "      <td>object</td>\n",
       "      <td>0.0</td>\n",
       "      <td>50</td>\n",
       "      <td>[CA, VA, MN, WA, CO, HI, PA, NY, IN, LA, AL, IL, OR, NE, ID, KS, MD, NV, TX, FL, NJ, MI, MO, KY, AK, MT, GA, RI, SC, IA, AZ, ND, MA, NH, OH, NC, TN, OK, UT, CT, AR, DC, MS, PR, WI, NM, SD, WY, DE, ME]</td>\n",
       "    </tr>\n",
       "    <tr>\n",
       "      <th>3</th>\n",
       "      <td>Vehicle Primary Use</td>\n",
       "      <td>object</td>\n",
       "      <td>0.0</td>\n",
       "      <td>2</td>\n",
       "      <td>[Passenger, Truck]</td>\n",
       "    </tr>\n",
       "    <tr>\n",
       "      <th>4</th>\n",
       "      <td>Battery Electric Vehicles (BEVs)</td>\n",
       "      <td>int32</td>\n",
       "      <td>0.0</td>\n",
       "      <td>1209</td>\n",
       "      <td>[7, 1, 0, 17, 2, 19, 9, 6, 73, 1643, 177, 38, 55, 175, 61, 77, 29, 3, 48, 11, 158, 615, 4, 5, 53, 52, 31, 103, 8, 730, 16, 559, 39, 6649, 465, 109, 119, 652, 23, 69, 13, 113, 275, 112, 285, 579, 198, 127, 252, 1509, 146, 272, 20, 32, 155, 844, 286, 2036, 22, 42, 502, 294, 138, 563, 2174, 179, 110, 240, 67, 91, 524, 290, 71, 25168, 12, 249, 26, 330, 58, 206, 498, 164, 1378, 185, 18, 309, 284, 1164, 25, 65, 10, 129, 1022, 4919, 368, 443, 24, 1265, 292, 27, ...]</td>\n",
       "    </tr>\n",
       "    <tr>\n",
       "      <th>5</th>\n",
       "      <td>Plug-In Hybrid Electric Vehicles (PHEVs)</td>\n",
       "      <td>int32</td>\n",
       "      <td>0.0</td>\n",
       "      <td>935</td>\n",
       "      <td>[0, 2, 1, 6, 14, 78, 673, 86, 43, 34, 179, 68, 65, 4, 44, 122, 464, 9, 40, 3, 61, 21, 5, 59, 326, 12, 170, 2195, 225, 112, 453, 7, 26, 39, 48, 128, 131, 414, 53, 120, 1373, 74, 141, 30, 133, 629, 173, 982, 23, 385, 194, 8, 73, 234, 1098, 103, 67, 82, 214, 91, 35, 7812, 142, 17, 184, 166, 124, 216, 99, 638, 106, 75, 308, 117, 88, 167, 383, 2025, 180, 139, 612, 200, 28, 58, 377, 56, 238, 71, 1018, 488, 433, 1415, 107, 651, 121, 534, 1055, 55, 257, 153, ...]</td>\n",
       "    </tr>\n",
       "    <tr>\n",
       "      <th>6</th>\n",
       "      <td>Electric Vehicle (EV) Total</td>\n",
       "      <td>int32</td>\n",
       "      <td>0.0</td>\n",
       "      <td>1409</td>\n",
       "      <td>[7, 3, 1, 0, 23, 2, 33, 11, 151, 2316, 263, 81, 89, 354, 4, 129, 142, 29, 9, 92, 280, 1079, 10, 14, 93, 113, 52, 5, 162, 8, 1056, 28, 729, 6, 98, 8844, 690, 221, 119, 1105, 49, 31, 108, 13, 161, 403, 416, 993, 198, 12, 180, 372, 2882, 220, 413, 50, 62, 288, 1473, 459, 3018, 45, 42, 887, 488, 25, 211, 797, 16, 3272, 282, 177, 322, 111, 91, 738, 381, 106, 32980, 22, 391, 43, 514, 123, 251, 714, 274, 164, 2016, 218, 260, 30, 617, 1166, 37, 140, 439, 194, 1405, 6944, ...]</td>\n",
       "    </tr>\n",
       "    <tr>\n",
       "      <th>7</th>\n",
       "      <td>Non-Electric Vehicle Total</td>\n",
       "      <td>int32</td>\n",
       "      <td>0.0</td>\n",
       "      <td>7096</td>\n",
       "      <td>[460, 188, 32, 3575, 83, 59, 66, 37, 1, 1529, 73, 45, 41, 5, 38, 23, 3, 2541, 4026, 11425, 296, 57, 61408, 651, 96, 14783, 12651, 100, 89, 4, 9, 300, 223, 183257, 125, 22088, 88, 495, 283, 42, 61083, 112, 62, 21, 149887, 21953, 30298, 27968, 130615, 228, 14774, 27988, 80, 264, 70, 15, 441, 15987, 131, 276, 33, 46, 18, 51, 50, 48077, 21315, 13805, 97, 82497, 717, 20, 53, 7, 30264, 79115, 20726, 182187, 116, 85, 27, 54, 35, 10, 8, 166853, 314266, 747, 1424, 121, 157, 24, 44, 17, 125976, 56024, 1304, 36204, 8370, 156, ...]</td>\n",
       "    </tr>\n",
       "    <tr>\n",
       "      <th>8</th>\n",
       "      <td>Total Vehicles</td>\n",
       "      <td>int32</td>\n",
       "      <td>0.0</td>\n",
       "      <td>7094</td>\n",
       "      <td>[467, 191, 33, 3575, 84, 60, 67, 38, 2, 1529, 74, 46, 42, 6, 39, 24, 4, 2564, 4026, 11425, 297, 58, 61408, 654, 98, 14783, 12684, 101, 90, 5, 10, 311, 225, 183264, 126, 22089, 89, 497, 284, 44, 61234, 114, 63, 23, 152203, 22216, 30379, 28057, 130969, 229, 14774, 27988, 81, 268, 71, 17, 442, 16116, 134, 279, 34, 47, 19, 52, 51, 48219, 21344, 13805, 82506, 724, 22, 54, 8, 30356, 79115, 20737, 182194, 117, 88, 28, 55, 43, 36, 11, 9, 167133, 315345, 757, 1438, 122, 159, 26, 45, 18, 125977, 56117, 1308, 36317, 8422, 157, ...]</td>\n",
       "    </tr>\n",
       "    <tr>\n",
       "      <th>9</th>\n",
       "      <td>Percent Electric Vehicles</td>\n",
       "      <td>float64</td>\n",
       "      <td>0.0</td>\n",
       "      <td>553</td>\n",
       "      <td>[1.5, 1.57, 3.03, 0.0, 1.19, 1.67, 1.49, 2.63, 50.0, 1.35, 2.17, 2.38, 16.67, 2.56, 4.17, 25.0, 0.9, 0.34, 1.72, 0.46, 2.04, 0.26, 0.99, 1.11, 20.0, 10.0, 3.54, 0.89, 0.79, 1.12, 0.4, 0.35, 4.55, 0.25, 1.75, 1.59, 8.7, 1.52, 1.18, 0.27, 0.32, 0.44, 1.23, 1.41, 11.76, 0.23, 0.8, 2.24, 1.08, 2.94, 2.13, 5.26, 1.92, 1.96, 0.29, 0.14, 1.02, 0.01, 0.97, 9.09, 1.85, 12.5, 0.3, 0.05, 0.85, 3.41, 3.57, 1.82, 2.33, 2.78, 11.11, 0.17, 1.32, 0.82, 1.26, 7.69, 2.22, 5.56, 0.31, 0.62, 0.64, 0.74, 1.56, 0.68, 0.28, 1.15, 0.69, 2.5, 4.0, 0.42, 8.33, 6.67, 3.85, 0.95, 1.54, 4.99, 1.69, 1.2, 1.89, 1.61, ...]</td>\n",
       "    </tr>\n",
       "  </tbody>\n",
       "</table>\n",
       "</div>"
      ],
      "text/plain": [
       "                                       Name     Type  N/A (%)  Unique  \\\n",
       "0                                      Date   object      0.0      86   \n",
       "1                                    County   object      0.0     311   \n",
       "2                                     State   object      0.0      50   \n",
       "3                       Vehicle Primary Use   object      0.0       2   \n",
       "4          Battery Electric Vehicles (BEVs)    int32      0.0    1209   \n",
       "5  Plug-In Hybrid Electric Vehicles (PHEVs)    int32      0.0     935   \n",
       "6               Electric Vehicle (EV) Total    int32      0.0    1409   \n",
       "7                Non-Electric Vehicle Total    int32      0.0    7096   \n",
       "8                            Total Vehicles    int32      0.0    7094   \n",
       "9                 Percent Electric Vehicles  float64      0.0     553   \n",
       "\n",
       "                                                                                                                                                                                                                                                                                                                                                                                                                                                                                                                                                                                                                                                                                                                                                                                                                                                                                                                                                                                                                                                                                                                                                                                                                                                                                                                                                                                                                                              Sample  \n",
       "0  [September 30 2022, December 31 2022, January 31 2020, June 30 2022, July 31 2021, May 31 2018, November 30 2017, March 31 2018, March 31 2020, January 31 2019, February 28 2017, September 30 2017, December 31 2018, November 30 2020, February 29 2020, August 31 2019, May 31 2020, December 31 2021, June 30 2021, January 31 2017, October 31 2022, May 31 2022, October 31 2017, September 30 2021, April 30 2021, June 30 2017, January 31 2022, July 31 2020, November 30 2021, February 28 2022, June 30 2019, March 31 2019, July 31 2019, August 31 2023, October 31 2020, June 30 2023, April 30 2020, September 30 2023, March 31 2021, April 30 2019, January 31 2018, October 31 2021, June 30 2020, April 30 2017, April 30 2023, February 28 2019, March 31 2022, January 31 2021, June 30 2018, March 31 2023, January 31 2024, September 30 2020, March 31 2017, December 31 2023, December 31 2017, November 30 2019, July 31 2022, April 30 2018, July 31 2023, May 31 2023, May 31 2021, July 31 2018, August 31 2021, December 31 2019, August 31 2022, July 31 2017, May 31 2017, October 31 2019, August 31 2020, January 31 2023, May 31 2019, February 28 2023, November 30 2022, November 30 2018, October 31 2023, August 31 2018, February 29 2024, December 31 2020, April 30 2022, November 30 2023, February 28 2018, October 31 2018, September 30 2019, August 31 2017, February 28 2021, September 30 2018]  \n",
       "1                                                                                                                                                                                                                                                                                                                                                                                                                                                             [Riverside, Prince William, Dakota, Ferry, Douglas, Maui, Northampton, Nassau, DeKalb, Columbia, Orleans, Ramsey, Manassas, Montgomery, Albemarle, Monroe, San Diego, Skamania, Washington, Sarpy, Owyhee, Clinton, Yakima, Virginia Beach, Sedgwick, Kittitas, Asotin, San Francisco, Charles, Richmond, Carson City, Santa Clara, Harris, King, Suffolk, Clallam, Clay, El Paso, Harford, Franklin, Burlington, Kings, Washtenaw, Whatcom, Whitman, Stevens, Benton, Kern, Grant, Nueces, Jackson, Polk, Powhatan, Anne Arundel, Pacific, San Mateo, Ventura, Klamath, Hamilton, Meade, Placer, Larimer, Fairbanks North Star, Clark, Bexar, Manatee, Williamson, Flathead, Lumpkin, Mason, Providence, Hardin, Charleston, Santa Cruz, Hawaii, Kootenai, Sumter, Dallas, Lake, Spokane, Los Angeles, Maricopa, Solano, Gwinnett, Madison, Snohomish, Lewis, Garfield, Walla Walla, St. Clair, Allen, Bryan, Adams, Jefferson, Alameda, Skagit, Escambia, Cook, Pima, Williams, ...]  \n",
       "2                                                                                                                                                                                                                                                                                                                                                                                                                                                                                                                                                                                                                                                                                                                                                                                                                                                                                                                                                                                                                                                                                                                                                                                                                                           [CA, VA, MN, WA, CO, HI, PA, NY, IN, LA, AL, IL, OR, NE, ID, KS, MD, NV, TX, FL, NJ, MI, MO, KY, AK, MT, GA, RI, SC, IA, AZ, ND, MA, NH, OH, NC, TN, OK, UT, CT, AR, DC, MS, PR, WI, NM, SD, WY, DE, ME]  \n",
       "3                                                                                                                                                                                                                                                                                                                                                                                                                                                                                                                                                                                                                                                                                                                                                                                                                                                                                                                                                                                                                                                                                                                                                                                                                                                                                                                                                                                                                                 [Passenger, Truck]  \n",
       "4                                                                                                                                                                                                                                                                                                                                                                                                                                                                                                                                                                                                                                                                                                                                                                                                                                                                                                                                                                    [7, 1, 0, 17, 2, 19, 9, 6, 73, 1643, 177, 38, 55, 175, 61, 77, 29, 3, 48, 11, 158, 615, 4, 5, 53, 52, 31, 103, 8, 730, 16, 559, 39, 6649, 465, 109, 119, 652, 23, 69, 13, 113, 275, 112, 285, 579, 198, 127, 252, 1509, 146, 272, 20, 32, 155, 844, 286, 2036, 22, 42, 502, 294, 138, 563, 2174, 179, 110, 240, 67, 91, 524, 290, 71, 25168, 12, 249, 26, 330, 58, 206, 498, 164, 1378, 185, 18, 309, 284, 1164, 25, 65, 10, 129, 1022, 4919, 368, 443, 24, 1265, 292, 27, ...]  \n",
       "5                                                                                                                                                                                                                                                                                                                                                                                                                                                                                                                                                                                                                                                                                                                                                                                                                                                                                                                                                                        [0, 2, 1, 6, 14, 78, 673, 86, 43, 34, 179, 68, 65, 4, 44, 122, 464, 9, 40, 3, 61, 21, 5, 59, 326, 12, 170, 2195, 225, 112, 453, 7, 26, 39, 48, 128, 131, 414, 53, 120, 1373, 74, 141, 30, 133, 629, 173, 982, 23, 385, 194, 8, 73, 234, 1098, 103, 67, 82, 214, 91, 35, 7812, 142, 17, 184, 166, 124, 216, 99, 638, 106, 75, 308, 117, 88, 167, 383, 2025, 180, 139, 612, 200, 28, 58, 377, 56, 238, 71, 1018, 488, 433, 1415, 107, 651, 121, 534, 1055, 55, 257, 153, ...]  \n",
       "6                                                                                                                                                                                                                                                                                                                                                                                                                                                                                                                                                                                                                                                                                                                                                                                                                                                                                                                                                           [7, 3, 1, 0, 23, 2, 33, 11, 151, 2316, 263, 81, 89, 354, 4, 129, 142, 29, 9, 92, 280, 1079, 10, 14, 93, 113, 52, 5, 162, 8, 1056, 28, 729, 6, 98, 8844, 690, 221, 119, 1105, 49, 31, 108, 13, 161, 403, 416, 993, 198, 12, 180, 372, 2882, 220, 413, 50, 62, 288, 1473, 459, 3018, 45, 42, 887, 488, 25, 211, 797, 16, 3272, 282, 177, 322, 111, 91, 738, 381, 106, 32980, 22, 391, 43, 514, 123, 251, 714, 274, 164, 2016, 218, 260, 30, 617, 1166, 37, 140, 439, 194, 1405, 6944, ...]  \n",
       "7                                                                                                                                                                                                                                                                                                                                                                                                                                                                                                                                                                                                                                                                                                                                                                                                                                                                                                      [460, 188, 32, 3575, 83, 59, 66, 37, 1, 1529, 73, 45, 41, 5, 38, 23, 3, 2541, 4026, 11425, 296, 57, 61408, 651, 96, 14783, 12651, 100, 89, 4, 9, 300, 223, 183257, 125, 22088, 88, 495, 283, 42, 61083, 112, 62, 21, 149887, 21953, 30298, 27968, 130615, 228, 14774, 27988, 80, 264, 70, 15, 441, 15987, 131, 276, 33, 46, 18, 51, 50, 48077, 21315, 13805, 97, 82497, 717, 20, 53, 7, 30264, 79115, 20726, 182187, 116, 85, 27, 54, 35, 10, 8, 166853, 314266, 747, 1424, 121, 157, 24, 44, 17, 125976, 56024, 1304, 36204, 8370, 156, ...]  \n",
       "8                                                                                                                                                                                                                                                                                                                                                                                                                                                                                                                                                                                                                                                                                                                                                                                                                                                                                                     [467, 191, 33, 3575, 84, 60, 67, 38, 2, 1529, 74, 46, 42, 6, 39, 24, 4, 2564, 4026, 11425, 297, 58, 61408, 654, 98, 14783, 12684, 101, 90, 5, 10, 311, 225, 183264, 126, 22089, 89, 497, 284, 44, 61234, 114, 63, 23, 152203, 22216, 30379, 28057, 130969, 229, 14774, 27988, 81, 268, 71, 17, 442, 16116, 134, 279, 34, 47, 19, 52, 51, 48219, 21344, 13805, 82506, 724, 22, 54, 8, 30356, 79115, 20737, 182194, 117, 88, 28, 55, 43, 36, 11, 9, 167133, 315345, 757, 1438, 122, 159, 26, 45, 18, 125977, 56117, 1308, 36317, 8422, 157, ...]  \n",
       "9                                                                                                                                                                                                                                                                                                                                                                                                                                                                                                                                                                                                                                                                                                                                                                                                                             [1.5, 1.57, 3.03, 0.0, 1.19, 1.67, 1.49, 2.63, 50.0, 1.35, 2.17, 2.38, 16.67, 2.56, 4.17, 25.0, 0.9, 0.34, 1.72, 0.46, 2.04, 0.26, 0.99, 1.11, 20.0, 10.0, 3.54, 0.89, 0.79, 1.12, 0.4, 0.35, 4.55, 0.25, 1.75, 1.59, 8.7, 1.52, 1.18, 0.27, 0.32, 0.44, 1.23, 1.41, 11.76, 0.23, 0.8, 2.24, 1.08, 2.94, 2.13, 5.26, 1.92, 1.96, 0.29, 0.14, 1.02, 0.01, 0.97, 9.09, 1.85, 12.5, 0.3, 0.05, 0.85, 3.41, 3.57, 1.82, 2.33, 2.78, 11.11, 0.17, 1.32, 0.82, 1.26, 7.69, 2.22, 5.56, 0.31, 0.62, 0.64, 0.74, 1.56, 0.68, 0.28, 1.15, 0.69, 2.5, 4.0, 0.42, 8.33, 6.67, 3.85, 0.95, 1.54, 4.99, 1.69, 1.2, 1.89, 1.61, ...]  "
      ]
     },
     "execution_count": 27,
     "metadata": {},
     "output_type": "execute_result"
    }
   ],
   "source": [
    "pd.set_option('display.max_rows', None)\n",
    "pd.set_option('display.max_columns', None)\n",
    "pd.set_option('display.max_colwidth', None)\n",
    "pd.DataFrame({\n",
    "    'Name': df.columns.values,\n",
    "    'Type': df.dtypes.values,\n",
    "    'N/A (%)': df.isna().mean().values * 100,\n",
    "    'Unique': df.nunique().values,\n",
    "    'Sample': [df[col].unique() for col in df.columns]\n",
    "})"
   ]
  },
  {
   "cell_type": "markdown",
   "metadata": {},
   "source": [
    "## Convert data bersih dalam bentuk xlsx untuk dilakukan analisis di tableau"
   ]
  },
  {
   "cell_type": "code",
   "execution_count": 25,
   "metadata": {},
   "outputs": [],
   "source": [
    "df.to_excel('Electric_Car_Population.xlsx',index=False) "
   ]
  }
 ],
 "metadata": {
  "kernelspec": {
   "display_name": "Python 3",
   "language": "python",
   "name": "python3"
  },
  "language_info": {
   "codemirror_mode": {
    "name": "ipython",
    "version": 3
   },
   "file_extension": ".py",
   "mimetype": "text/x-python",
   "name": "python",
   "nbconvert_exporter": "python",
   "pygments_lexer": "ipython3",
   "version": "3.11.9"
  }
 },
 "nbformat": 4,
 "nbformat_minor": 2
}
